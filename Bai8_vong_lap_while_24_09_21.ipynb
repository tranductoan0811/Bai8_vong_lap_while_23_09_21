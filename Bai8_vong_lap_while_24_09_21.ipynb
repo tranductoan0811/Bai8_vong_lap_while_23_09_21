{
 "cells": [
  {
   "cell_type": "code",
   "execution_count": 11,
   "id": "7c9670fb",
   "metadata": {},
   "outputs": [
    {
     "name": "stdout",
     "output_type": "stream",
     "text": [
      "cach 1:\n",
      "10 9 8 7 6 5 4 3 2 1 \n",
      "cach2: \n",
      "10 9 8 7 6 5 4 3 2 1 \n",
      "cach 3: \n",
      "1 2 3 4 5 6 7 8 9 10 "
     ]
    }
   ],
   "source": [
    "#In các số từ 1-10 theo thứ tự giảm dần\n",
    "print(\"cach 1:\")\n",
    "for i in range(10,0,-1):\n",
    "    print(i, end = \" \")\n",
    "\n",
    "print(\"\\ncach2: \")\n",
    "for i in reversed(range(1,11)):\n",
    "    print(i, end = \" \")\n",
    "\n",
    "print(\"\\ncach 3: \") #Có /n sẽ ngắt xuống dòng\n",
    "for i in range(1,11):\n",
    "    print(i, end = \" \")"
   ]
  },
  {
   "cell_type": "code",
   "execution_count": 17,
   "id": "bd7b1bf7",
   "metadata": {},
   "outputs": [
    {
     "name": "stdout",
     "output_type": "stream",
     "text": [
      "In các số chẵn :\n",
      "2 4 6 8 10 "
     ]
    }
   ],
   "source": [
    "#in các số chẵn trong dãy từ 1-10\n",
    "print(\"In các số chẵn :\")\n",
    "for i in range(1,11):\n",
    "    if (i%2 == 0):\n",
    "        print(i, end = \" \")\n",
    "  "
   ]
  },
  {
   "cell_type": "code",
   "execution_count": 21,
   "id": "f7372de8",
   "metadata": {},
   "outputs": [
    {
     "name": "stdout",
     "output_type": "stream",
     "text": [
      "In các số lẻ :\n",
      "1 3 5 7 9 "
     ]
    }
   ],
   "source": [
    "#in các số lẻ trong dãy từ 1-10\n",
    "print(\"In các số lẻ :\")\n",
    "for i in range(1,10):\n",
    "    if (i%2 != 0):\n",
    "        print(i, end = \" \")"
   ]
  }
 ],
 "metadata": {
  "kernelspec": {
   "display_name": "Python 3 (ipykernel)",
   "language": "python",
   "name": "python3"
  },
  "language_info": {
   "codemirror_mode": {
    "name": "ipython",
    "version": 3
   },
   "file_extension": ".py",
   "mimetype": "text/x-python",
   "name": "python",
   "nbconvert_exporter": "python",
   "pygments_lexer": "ipython3",
   "version": "3.9.6"
  }
 },
 "nbformat": 4,
 "nbformat_minor": 5
}
