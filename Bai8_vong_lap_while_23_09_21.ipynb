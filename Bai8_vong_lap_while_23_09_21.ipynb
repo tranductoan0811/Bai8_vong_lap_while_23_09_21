{
 "cells": [
  {
   "cell_type": "code",
   "execution_count": 15,
   "id": "187172df",
   "metadata": {},
   "outputs": [],
   "source": [
    "import turtle"
   ]
  },
  {
   "cell_type": "code",
   "execution_count": 16,
   "id": "757f73f1",
   "metadata": {},
   "outputs": [
    {
     "name": "stdout",
     "output_type": "stream",
     "text": [
      "Nhập size nét vẽ:7\n",
      "Nhập mã màu nét vẽ#B4C0CA\n",
      "Nhập mã màu tô bên trong hình:#BBE0FE\n",
      "Nhập chiều dài cạnh (m):300\n"
     ]
    }
   ],
   "source": [
    "pen = turtle.Turtle()\n",
    "size = input(\"Nhập size nét vẽ:\") #Nét vẽ\n",
    "maunet = input(\"Nhập mã màu nét vẽ\") #Mã màu: #B4C0CA\n",
    "mauto_hinh = input(\"Nhập mã màu tô bên trong hình:\") #Mã màu: #BBE0FE\n",
    "c_dai = int(input(\"Nhập chiều dài cạnh (m):\")) #Chiều dài cạnh : 200"
   ]
  },
  {
   "cell_type": "code",
   "execution_count": 17,
   "id": "f36c2471",
   "metadata": {},
   "outputs": [],
   "source": [
    "pen.pensize(size)\n",
    "pen.pencolor(maunet)"
   ]
  },
  {
   "cell_type": "code",
   "execution_count": null,
   "id": "ad670f99",
   "metadata": {},
   "outputs": [],
   "source": [
    "#Vẽ hình vuông có cạnh 200\n",
    "pen.fillcolor(mauto_hinh)\n",
    "pen.begin_fill()\n",
    "canh = 0\n",
    "while canh < 4:\n",
    "    pen.fd(c_dai)\n",
    "    pen.lt(90)\n",
    "    canh = canh + 1\n",
    "pen.end_fill()\n",
    "turtle.done()"
   ]
  }
 ],
 "metadata": {
  "kernelspec": {
   "display_name": "Python 3 (ipykernel)",
   "language": "python",
   "name": "python3"
  },
  "language_info": {
   "codemirror_mode": {
    "name": "ipython",
    "version": 3
   },
   "file_extension": ".py",
   "mimetype": "text/x-python",
   "name": "python",
   "nbconvert_exporter": "python",
   "pygments_lexer": "ipython3",
   "version": "3.9.6"
  }
 },
 "nbformat": 4,
 "nbformat_minor": 5
}
